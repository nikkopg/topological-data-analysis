{
 "cells": [
  {
   "cell_type": "markdown",
   "metadata": {},
   "source": [
    "### Digits dataset"
   ]
  },
  {
   "cell_type": "code",
   "execution_count": 1,
   "metadata": {},
   "outputs": [],
   "source": [
    "# SOURCE: https://github.com/scikit-tda/kepler-mapper/blob/master/examples/digits/digits.ipynb"
   ]
  },
  {
   "cell_type": "code",
   "execution_count": 2,
   "metadata": {},
   "outputs": [],
   "source": [
    "import numpy as np\n",
    "import sklearn\n",
    "from sklearn import datasets\n",
    "try:\n",
    "    import umap\n",
    "except ImportError:\n",
    "    print(\"This example requires the UMAP library. You can install it with the command `!pip install umap-learn`\")\n",
    "import warnings\n",
    "warnings.filterwarnings(\"ignore\")"
   ]
  },
  {
   "cell_type": "code",
   "execution_count": 3,
   "metadata": {},
   "outputs": [],
   "source": [
    "import kmapper as km\n",
    "from kmapper.plotlyviz import plotlyviz\n",
    "from kmapper.plotlyviz import *\n",
    "import plotly.graph_objs as go\n",
    "import ipywidgets as ipw"
   ]
  },
  {
   "cell_type": "code",
   "execution_count": 4,
   "metadata": {},
   "outputs": [],
   "source": [
    "data, labels = datasets.load_digits().data, datasets.load_digits().target"
   ]
  },
  {
   "cell_type": "code",
   "execution_count": 5,
   "metadata": {},
   "outputs": [],
   "source": [
    "mapper = km.KeplerMapper(verbose=0)\n",
    "\n",
    "projected_data = mapper.fit_transform(\n",
    "    data, \n",
    "    # projection=umap.UMAP(\n",
    "    #     n_neighbors=50,\n",
    "    #     min_dist=0.8,\n",
    "    #     n_components=2,\n",
    "    #     metric='euclidean',\n",
    "    #     random_state=3571)\n",
    "    projection=sklearn.manifold.TSNE(random_state=1)\n",
    ")\n",
    "\n",
    "# Get the simplicial complex  \n",
    "scomplex = mapper.map(projected_data,\n",
    "                      clusterer=sklearn.cluster.DBSCAN(eps=0.3, min_samples=15, algorithm='auto', leaf_size=30, p=None),\n",
    "                      cover=km.Cover(35, 0.5))\n",
    "\n",
    "color_values = projected_data[:, 1]-projected_data[:, 1].min()"
   ]
  },
  {
   "cell_type": "markdown",
   "metadata": {},
   "source": [
    "`km.cover` seems to be the parameter to tune if we want to either generate more or less nodes and edges."
   ]
  },
  {
   "cell_type": "code",
   "execution_count": 6,
   "metadata": {},
   "outputs": [],
   "source": [
    "# alternative:\n",
    "\n",
    "from kmapper.jupyter import display\n",
    "\n",
    "visualized_mapper = mapper.visualize(\n",
    "    scomplex,\n",
    "    path_html=\"output/example_html_output.html\",\n",
    "    color_values=color_values,\n",
    "    color_function_name='Distance to y-min',\n",
    "    custom_tooltips=labels\n",
    ")\n",
    "\n",
    "# display(\"output/example_html_output.html\")"
   ]
  },
  {
   "cell_type": "code",
   "execution_count": 10,
   "metadata": {},
   "outputs": [
    {
     "data": {
      "application/vnd.jupyter.widget-view+json": {
       "model_id": "3cb1421f47934a2382f3af42a82c4fec",
       "version_major": 2,
       "version_minor": 0
      },
      "text/plain": [
       "FigureWidget({\n",
       "    'data': [{'hoverinfo': 'none',\n",
       "              'line': {'color': 'rgb(180,180,180)', 'width': 1.5},\n",
       "              'mode': 'lines',\n",
       "              'type': 'scatter',\n",
       "              'uid': '0cbb54da-179a-40d3-8f40-ad311ad757c3',\n",
       "              'x': [0.5512520069403639, 2.033441275354712, None, ...,\n",
       "                    7.8317654226769475, 6.573202370752859, None],\n",
       "              'y': [-9.925820926363887, -9.704957503452913, None, ...,\n",
       "                    2.2468919499021553, 2.5328036609394444, None]},\n",
       "             {'hoverinfo': 'text',\n",
       "              'marker': {'color': [0.19221649291338744, 0.19808664172887802,\n",
       "                                   0.1900658681988716, ..., 0.3807560310644262,\n",
       "                                   0.3036435441724185, 0.31842504983598535],\n",
       "                         'colorbar': {'thickness': 20,\n",
       "                                      'tickfont': {'size': 10},\n",
       "                                      'ticklen': 4,\n",
       "                                      'title': {'font': {'size': 10}, 'text': 'Distance to y-min'},\n",
       "                                      'x': 1.01},\n",
       "                         'colorscale': [[0.0, 'rgb(68, 1, 84)'], [0.1, 'rgb(72,\n",
       "                                        35, 116)'], [0.2, 'rgb(64, 67, 135)'],\n",
       "                                        [0.3, 'rgb(52, 94, 141)'], [0.4, 'rgb(41,\n",
       "                                        120, 142)'], [0.5, 'rgb(32, 144, 140)'],\n",
       "                                        [0.6, 'rgb(34, 167, 132)'], [0.7, 'rgb(68,\n",
       "                                        190, 112)'], [0.8, 'rgb(121, 209, 81)'],\n",
       "                                        [0.9, 'rgb(189, 222, 38)'], [1.0, 'rgb(253,\n",
       "                                        231, 36)']],\n",
       "                         'line': {'color': 'rgb(100,100,100)', 'width': 1.0},\n",
       "                         'opacity': 1.0,\n",
       "                         'showscale': True,\n",
       "                         'size': [12, 9, 9, ..., 9, 12, 12]},\n",
       "              'mode': 'markers',\n",
       "              'text': [cube1_cluster0, cube2_cluster0, cube8_cluster0, ...,\n",
       "                       cube472_cluster0, cube475_cluster0, cube476_cluster0],\n",
       "              'type': 'scatter',\n",
       "              'uid': 'd8c149b3-7d82-42f4-b073-c16b905ed913',\n",
       "              'x': [0.5512520069403639, 2.033441275354712, 1.6218482838077528,\n",
       "                    ..., 4.020636994950455, 7.8317654226769475, 6.573202370752859],\n",
       "              'y': [-9.925820926363887, -9.704957503452913, -10.939251266658381,\n",
       "                    ..., 1.9545808315894029, 2.2468919499021553,\n",
       "                    2.5328036609394444]}],\n",
       "    'layout': {'annotations': [{'align': 'left',\n",
       "                                'font': {'size': 12},\n",
       "                                'showarrow': False,\n",
       "                                'text': ('<b>N_cubes:</b> 35 <b>Perc_ove' ... '86 <b>Unique_samples:</b> 1746'),\n",
       "                                'x': 0,\n",
       "                                'xanchor': 'left',\n",
       "                                'xref': 'paper',\n",
       "                                'y': -0.01,\n",
       "                                'yanchor': 'top',\n",
       "                                'yref': 'paper'}],\n",
       "               'autosize': False,\n",
       "               'font': {'size': 12},\n",
       "               'height': 620,\n",
       "               'hovermode': 'closest',\n",
       "               'margin': {'b': 35, 'l': 10, 'r': 60, 't': 100},\n",
       "               'plot_bgcolor': 'rgb(240,240,240)',\n",
       "               'showlegend': False,\n",
       "               'template': '...',\n",
       "               'title': {'text': 'Mapper graph of digits dataset'},\n",
       "               'width': 620,\n",
       "               'xaxis': {'visible': False},\n",
       "               'yaxis': {'visible': False}}\n",
       "})"
      ]
     },
     "execution_count": 10,
     "metadata": {},
     "output_type": "execute_result"
    }
   ],
   "source": [
    "plotlyviz(scomplex, \n",
    "          title='Mapper graph of digits dataset',\n",
    "          color_values=color_values, \n",
    "          color_function_name='Distance to y-min', \n",
    "          node_linecolor='rgb(100,100,100)',\n",
    "          bgcolor='rgb(240,240,240)',\n",
    "          width=620, height=620,\n",
    "          summary_height=350,\n",
    "          summary_left=10,\n",
    "          hist_left=25,\n",
    "          hist_right=10,\n",
    "          graph_data=False,   # set to False to save image\n",
    "          filename=\"output/kmapper_output.png\")"
   ]
  }
 ],
 "metadata": {
  "kernelspec": {
   "display_name": "Python 3",
   "language": "python",
   "name": "python3"
  },
  "language_info": {
   "codemirror_mode": {
    "name": "ipython",
    "version": 3
   },
   "file_extension": ".py",
   "mimetype": "text/x-python",
   "name": "python",
   "nbconvert_exporter": "python",
   "pygments_lexer": "ipython3",
   "version": "3.9.18"
  }
 },
 "nbformat": 4,
 "nbformat_minor": 2
}
